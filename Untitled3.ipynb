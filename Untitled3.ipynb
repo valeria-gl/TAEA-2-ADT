{
  "nbformat": 4,
  "nbformat_minor": 0,
  "metadata": {
    "colab": {
      "name": "Untitled3.ipynb",
      "provenance": [],
      "authorship_tag": "ABX9TyMBr1Pju4+Y0m8fdmts04f4",
      "include_colab_link": true
    },
    "kernelspec": {
      "name": "python3",
      "display_name": "Python 3"
    },
    "language_info": {
      "name": "python"
    }
  },
  "cells": [
    {
      "cell_type": "markdown",
      "metadata": {
        "id": "view-in-github",
        "colab_type": "text"
      },
      "source": [
        "<a href=\"https://colab.research.google.com/github/valeria-gl/TAEA-2-ADT/blob/main/Untitled3.ipynb\" target=\"_parent\"><img src=\"https://colab.research.google.com/assets/colab-badge.svg\" alt=\"Open In Colab\"/></a>"
      ]
    },
    {
      "cell_type": "code",
      "metadata": {
        "colab": {
          "base_uri": "https://localhost:8080/"
        },
        "id": "QA6nVWrBfAm5",
        "outputId": "d3ea8614-a0b0-4c35-9f45-020a43ae418f"
      },
      "source": [
        "import random\n",
        "\n",
        "\n",
        "def init(Nx, Ny):\n",
        "    C = [[0 for j in range(Nx)] for i in range(Ny)]\n",
        "    for i in range (Ny):\n",
        "        for j in range (Nx):\n",
        "           C[i][j] = random.randint(0,1)\n",
        "    return C\n",
        "\n",
        "C0 = init(5, 5)\n",
        "C0\n"
      ],
      "execution_count": 2,
      "outputs": [
        {
          "output_type": "execute_result",
          "data": {
            "text/plain": [
              "[[0, 0, 1, 1, 0],\n",
              " [0, 0, 0, 0, 0],\n",
              " [1, 1, 1, 1, 1],\n",
              " [1, 0, 1, 0, 1],\n",
              " [1, 1, 1, 0, 1]]"
            ]
          },
          "metadata": {},
          "execution_count": 2
        }
      ]
    }
  ]
}